{
  "nbformat": 4,
  "nbformat_minor": 0,
  "metadata": {
    "colab": {
      "provenance": [],
      "collapsed_sections": [],
      "include_colab_link": true
    },
    "kernelspec": {
      "name": "python3",
      "display_name": "Python 3"
    },
    "language_info": {
      "name": "python"
    }
  },
  "cells": [
    {
      "cell_type": "markdown",
      "metadata": {
        "id": "view-in-github",
        "colab_type": "text"
      },
      "source": [
        "<a href=\"https://colab.research.google.com/github/md-harshaprada/heart-disease-prediction-kaggleDataset/blob/main/Heart_Disease_Prediction_KaggleDataset.ipynb\" target=\"_parent\"><img src=\"https://colab.research.google.com/assets/colab-badge.svg\" alt=\"Open In Colab\"/></a>"
      ]
    },
    {
      "cell_type": "markdown",
      "source": [
        "# **Abstract**\n",
        "\n",
        "Heart-related diseases are the leading cause of death worldwide over the past few decades and have become the most serious illness in both India and the rest of the world. In order to automate the analysis of large and complex datasets, machine learning algorithms and techniques have been used on a variety of medical datasets. In recent years, numerous researchers have employed a variety of machine learning techniques to aid the medical community and specialists in the diagnosis of heart-related diseases."
      ],
      "metadata": {
        "id": "Bg4EXFSHdq68"
      }
    },
    {
      "cell_type": "code",
      "execution_count": 47,
      "metadata": {
        "id": "-DKRtq68EiiQ"
      },
      "outputs": [],
      "source": [
        "import numpy as np\n",
        "import pandas as pd\n",
        "import matplotlib.pyplot as plt\n",
        "import matplotlib.cm as cm\n",
        "import seaborn as sns\n",
        "\n",
        "\n",
        "from sklearn.model_selection import train_test_split\n",
        "from sklearn.preprocessing import MinMaxScaler\n",
        "from sklearn.utils import resample\n",
        "from sklearn.linear_model import LogisticRegression\n",
        "from sklearn.neighbors import KNeighborsClassifier\n",
        "from sklearn.ensemble import RandomForestClassifier\n",
        "from sklearn.tree import DecisionTreeClassifier\n",
        "\n",
        "\n",
        "from sklearn.metrics import confusion_matrix, accuracy_score, roc_curve, classification_report"
      ]
    },
    {
      "cell_type": "code",
      "source": [
        "data = pd.read_csv('/content/framingham.csv')"
      ],
      "metadata": {
        "id": "aJucUiLhE1XX"
      },
      "execution_count": 48,
      "outputs": []
    },
    {
      "cell_type": "markdown",
      "source": [
        "# **Data Pre-Processing**"
      ],
      "metadata": {
        "id": "JweVKWYZeHt1"
      }
    },
    {
      "cell_type": "code",
      "source": [
        "print(f'data length: {len(data)}\\n')\n",
        "print(f'missing values by column:\\n{data.isnull().sum()}\\n')\n",
        "print(f'data duplication(all columns): {data.duplicated().sum()}')"
      ],
      "metadata": {
        "colab": {
          "base_uri": "https://localhost:8080/"
        },
        "id": "21AC3KLVz5Pf",
        "outputId": "b95e4ad4-d94d-4bdd-c1b9-133f001100a6"
      },
      "execution_count": 49,
      "outputs": [
        {
          "output_type": "stream",
          "name": "stdout",
          "text": [
            "data length: 4238\n",
            "\n",
            "missing values by column:\n",
            "male                 0\n",
            "age                  0\n",
            "education          105\n",
            "currentSmoker        0\n",
            "cigsPerDay          29\n",
            "BPMeds              53\n",
            "prevalentStroke      0\n",
            "prevalentHyp         0\n",
            "diabetes             0\n",
            "totChol             50\n",
            "sysBP                0\n",
            "diaBP                0\n",
            "BMI                 19\n",
            "heartRate            1\n",
            "glucose            388\n",
            "TenYearCHD           0\n",
            "dtype: int64\n",
            "\n",
            "data duplication(all columns): 0\n"
          ]
        }
      ]
    },
    {
      "cell_type": "code",
      "source": [
        "updated_data = data\n",
        "updated_data['education']=updated_data['education'].fillna(updated_data['education'].mean())\n",
        "updated_data['cigsPerDay']=updated_data['cigsPerDay'].fillna(updated_data['cigsPerDay'].mean())\n",
        "updated_data['BPMeds']=updated_data['BPMeds'].fillna(updated_data['BPMeds'].mean())\n",
        "updated_data['totChol']=updated_data['totChol'].fillna(updated_data['totChol'].mean())\n",
        "updated_data['BMI']=updated_data['BMI'].fillna(updated_data['BMI'].mean())\n",
        "updated_data['heartRate']=updated_data['heartRate'].fillna(updated_data['heartRate'].mean())\n",
        "updated_data['glucose']=updated_data['glucose'].fillna(updated_data['glucose'].mean())\n",
        "updated_data.info()"
      ],
      "metadata": {
        "colab": {
          "base_uri": "https://localhost:8080/"
        },
        "id": "a_T1urToE9nV",
        "outputId": "a0fbbe27-2e54-4cd1-b711-f7a73efa8934"
      },
      "execution_count": 50,
      "outputs": [
        {
          "output_type": "stream",
          "name": "stdout",
          "text": [
            "<class 'pandas.core.frame.DataFrame'>\n",
            "RangeIndex: 4238 entries, 0 to 4237\n",
            "Data columns (total 16 columns):\n",
            " #   Column           Non-Null Count  Dtype  \n",
            "---  ------           --------------  -----  \n",
            " 0   male             4238 non-null   int64  \n",
            " 1   age              4238 non-null   int64  \n",
            " 2   education        4238 non-null   float64\n",
            " 3   currentSmoker    4238 non-null   int64  \n",
            " 4   cigsPerDay       4238 non-null   float64\n",
            " 5   BPMeds           4238 non-null   float64\n",
            " 6   prevalentStroke  4238 non-null   int64  \n",
            " 7   prevalentHyp     4238 non-null   int64  \n",
            " 8   diabetes         4238 non-null   int64  \n",
            " 9   totChol          4238 non-null   float64\n",
            " 10  sysBP            4238 non-null   float64\n",
            " 11  diaBP            4238 non-null   float64\n",
            " 12  BMI              4238 non-null   float64\n",
            " 13  heartRate        4238 non-null   float64\n",
            " 14  glucose          4238 non-null   float64\n",
            " 15  TenYearCHD       4238 non-null   int64  \n",
            "dtypes: float64(9), int64(7)\n",
            "memory usage: 529.9 KB\n"
          ]
        }
      ]
    },
    {
      "cell_type": "code",
      "source": [
        "print(f'data length: {len(updated_data)}\\n')\n",
        "print(f'missing values by column:\\n{updated_data.isnull().sum()}\\n')\n",
        "print(f'data duplication(all columns): {updated_data.duplicated().sum()}')"
      ],
      "metadata": {
        "colab": {
          "base_uri": "https://localhost:8080/"
        },
        "id": "uSIA0jAbFC7Q",
        "outputId": "177eaaf7-0464-40ed-e61e-7cc4f8ec0f82"
      },
      "execution_count": 51,
      "outputs": [
        {
          "output_type": "stream",
          "name": "stdout",
          "text": [
            "data length: 4238\n",
            "\n",
            "missing values by column:\n",
            "male               0\n",
            "age                0\n",
            "education          0\n",
            "currentSmoker      0\n",
            "cigsPerDay         0\n",
            "BPMeds             0\n",
            "prevalentStroke    0\n",
            "prevalentHyp       0\n",
            "diabetes           0\n",
            "totChol            0\n",
            "sysBP              0\n",
            "diaBP              0\n",
            "BMI                0\n",
            "heartRate          0\n",
            "glucose            0\n",
            "TenYearCHD         0\n",
            "dtype: int64\n",
            "\n",
            "data duplication(all columns): 0\n"
          ]
        }
      ]
    },
    {
      "cell_type": "code",
      "source": [
        "cig = sns.lmplot(x=\"cigsPerDay\", y=\"TenYearCHD\", data=updated_data)"
      ],
      "metadata": {
        "colab": {
          "base_uri": "https://localhost:8080/",
          "height": 369
        },
        "id": "_358Oin9FG0F",
        "outputId": "0bc9c8c7-b257-4b4a-c2c9-cc84f2cdd7ee"
      },
      "execution_count": 52,
      "outputs": [
        {
          "output_type": "display_data",
          "data": {
            "text/plain": [
              "<Figure size 360x360 with 1 Axes>"
            ],
            "image/png": "[encoded data removed]"
          },
          "metadata": {
            "needs_background": "light"
          }
        }
      ]
    },
    {
      "cell_type": "code",
      "source": [
        "cormat = updated_data.corr()\n",
        "round(cormat,2)"
      ],
      "metadata": {
        "colab": {
          "base_uri": "https://localhost:8080/",
          "height": 551
        },
        "id": "Ck_QOHodFVcn",
        "outputId": "62540705-2dc3-4e93-e316-c2677d992fa0"
      },
      "execution_count": 53,
      "outputs": [
        {
          "output_type": "execute_result",
          "data": {
            "text/plain": [
              "                 male   age  education  currentSmoker  cigsPerDay  BPMeds  \\\n",
              "male             1.00 -0.03       0.02           0.20        0.32   -0.05   \n",
              "age             -0.03  1.00      -0.16          -0.21       -0.19    0.12   \n",
              "education        0.02 -0.16       1.00           0.02        0.01   -0.01   \n",
              "currentSmoker    0.20 -0.21       0.02           1.00        0.77   -0.05   \n",
              "cigsPerDay       0.32 -0.19       0.01           0.77        1.00   -0.05   \n",
              "BPMeds          -0.05  0.12      -0.01          -0.05       -0.05    1.00   \n",
              "prevalentStroke -0.00  0.06      -0.04          -0.03       -0.03    0.12   \n",
              "prevalentHyp     0.01  0.31      -0.08          -0.10       -0.07    0.26   \n",
              "diabetes         0.02  0.10      -0.04          -0.04       -0.04    0.05   \n",
              "totChol         -0.07  0.26      -0.02          -0.05       -0.03    0.08   \n",
              "sysBP           -0.04  0.39      -0.13          -0.13       -0.09    0.25   \n",
              "diaBP            0.06  0.21      -0.06          -0.11       -0.06    0.19   \n",
              "BMI              0.08  0.14      -0.14          -0.17       -0.09    0.10   \n",
              "heartRate       -0.12 -0.01      -0.05           0.06        0.07    0.02   \n",
              "glucose          0.01  0.12      -0.03          -0.05       -0.06    0.05   \n",
              "TenYearCHD       0.09  0.23      -0.05           0.02        0.06    0.09   \n",
              "\n",
              "                 prevalentStroke  prevalentHyp  diabetes  totChol  sysBP  \\\n",
              "male                       -0.00          0.01      0.02    -0.07  -0.04   \n",
              "age                         0.06          0.31      0.10     0.26   0.39   \n",
              "education                  -0.04         -0.08     -0.04    -0.02  -0.13   \n",
              "currentSmoker              -0.03         -0.10     -0.04    -0.05  -0.13   \n",
              "cigsPerDay                 -0.03         -0.07     -0.04    -0.03  -0.09   \n",
              "BPMeds                      0.12          0.26      0.05     0.08   0.25   \n",
              "prevalentStroke             1.00          0.07      0.01     0.00   0.06   \n",
              "prevalentHyp                0.07          1.00      0.08     0.16   0.70   \n",
              "diabetes                    0.01          0.08      1.00     0.04   0.11   \n",
              "totChol                     0.00          0.16      0.04     1.00   0.21   \n",
              "sysBP                       0.06          0.70      0.11     0.21   1.00   \n",
              "diaBP                       0.05          0.62      0.05     0.16   0.78   \n",
              "BMI                         0.02          0.30      0.09     0.11   0.33   \n",
              "heartRate                  -0.02          0.15      0.05     0.09   0.18   \n",
              "glucose                     0.02          0.08      0.61     0.04   0.13   \n",
              "TenYearCHD                  0.06          0.18      0.10     0.08   0.22   \n",
              "\n",
              "                 diaBP   BMI  heartRate  glucose  TenYearCHD  \n",
              "male              0.06  0.08      -0.12     0.01        0.09  \n",
              "age               0.21  0.14      -0.01     0.12        0.23  \n",
              "education        -0.06 -0.14      -0.05    -0.03       -0.05  \n",
              "currentSmoker    -0.11 -0.17       0.06    -0.05        0.02  \n",
              "cigsPerDay       -0.06 -0.09       0.07    -0.06        0.06  \n",
              "BPMeds            0.19  0.10       0.02     0.05        0.09  \n",
              "prevalentStroke   0.05  0.02      -0.02     0.02        0.06  \n",
              "prevalentHyp      0.62  0.30       0.15     0.08        0.18  \n",
              "diabetes          0.05  0.09       0.05     0.61        0.10  \n",
              "totChol           0.16  0.11       0.09     0.04        0.08  \n",
              "sysBP             0.78  0.33       0.18     0.13        0.22  \n",
              "diaBP             1.00  0.38       0.18     0.06        0.15  \n",
              "BMI               0.38  1.00       0.07     0.08        0.07  \n",
              "heartRate         0.18  0.07       1.00     0.09        0.02  \n",
              "glucose           0.06  0.08       0.09     1.00        0.12  \n",
              "TenYearCHD        0.15  0.07       0.02     0.12        1.00  "
            ],
            "text/html": [
              "\n",
              "  <div id=\"df-4a4f10f6-4e05-43bc-9ac0-3acced3af859\">\n",
              "    <div class=\"colab-df-container\">\n",
              "      <div>\n",
              "<style scoped>\n",
              "    .dataframe tbody tr th:only-of-type {\n",
              "        vertical-align: middle;\n",
              "    }\n",
              "\n",
              "    .dataframe tbody tr th {\n",
              "        vertical-align: top;\n",
              "    }\n",
              "\n",
              "    .dataframe thead th {\n",
              "        text-align: right;\n",
              "    }\n",
              "</style>\n",
              "<table border=\"1\" class=\"dataframe\">\n",
              "  <thead>\n",
              "    <tr style=\"text-align: right;\">\n",
              "      <th></th>\n",
              "      <th>male</th>\n",
              "      <th>age</th>\n",
              "      <th>education</th>\n",
              "      <th>currentSmoker</th>\n",
              "      <th>cigsPerDay</th>\n",
              "      <th>BPMeds</th>\n",
              "      <th>prevalentStroke</th>\n",
              "      <th>prevalentHyp</th>\n",
              "      <th>diabetes</th>\n",
              "      <th>totChol</th>\n",
              "      <th>sysBP</th>\n",
              "      <th>diaBP</th>\n",
              "      <th>BMI</th>\n",
              "      <th>heartRate</th>\n",
              "      <th>glucose</th>\n",
              "      <th>TenYearCHD</th>\n",
              "    </tr>\n",
              "  </thead>\n",
              "  <tbody>\n",
              "    <tr>\n",
              "      <th>male</th>\n",
              "      <td>1.00</td>\n",
              "      <td>-0.03</td>\n",
              "      <td>0.02</td>\n",
              "      <td>0.20</td>\n",
              "      <td>0.32</td>\n",
              "      <td>-0.05</td>\n",
              "      <td>-0.00</td>\n",
              "      <td>0.01</td>\n",
              "      <td>0.02</td>\n",
              "      <td>-0.07</td>\n",
              "      <td>-0.04</td>\n",
              "      <td>0.06</td>\n",
              "      <td>0.08</td>\n",
              "      <td>-0.12</td>\n",
              "      <td>0.01</td>\n",
              "      <td>0.09</td>\n",
              "    </tr>\n",
              "    <tr>\n",
              "      <th>age</th>\n",
              "      <td>-0.03</td>\n",
              "      <td>1.00</td>\n",
              "      <td>-0.16</td>\n",
              "      <td>-0.21</td>\n",
              "      <td>-0.19</td>\n",
              "      <td>0.12</td>\n",
              "      <td>0.06</td>\n",
              "      <td>0.31</td>\n",
              "      <td>0.10</td>\n",
              "      <td>0.26</td>\n",
              "      <td>0.39</td>\n",
              "      <td>0.21</td>\n",
              "      <td>0.14</td>\n",
              "      <td>-0.01</td>\n",
              "      <td>0.12</td>\n",
              "      <td>0.23</td>\n",
              "    </tr>\n",
              "    <tr>\n",
              "      <th>education</th>\n",
              "      <td>0.02</td>\n",
              "      <td>-0.16</td>\n",
              "      <td>1.00</td>\n",
              "      <td>0.02</td>\n",
              "      <td>0.01</td>\n",
              "      <td>-0.01</td>\n",
              "      <td>-0.04</td>\n",
              "      <td>-0.08</td>\n",
              "      <td>-0.04</td>\n",
              "      <td>-0.02</td>\n",
              "      <td>-0.13</td>\n",
              "      <td>-0.06</td>\n",
              "      <td>-0.14</td>\n",
              "      <td>-0.05</td>\n",
              "      <td>-0.03</td>\n",
              "      <td>-0.05</td>\n",
              "    </tr>\n",
              "    <tr>\n",
              "      <th>currentSmoker</th>\n",
              "      <td>0.20</td>\n",
              "      <td>-0.21</td>\n",
              "      <td>0.02</td>\n",
              "      <td>1.00</td>\n",
              "      <td>0.77</td>\n",
              "      <td>-0.05</td>\n",
              "      <td>-0.03</td>\n",
              "      <td>-0.10</td>\n",
              "      <td>-0.04</td>\n",
              "      <td>-0.05</td>\n",
              "      <td>-0.13</td>\n",
              "      <td>-0.11</td>\n",
              "      <td>-0.17</td>\n",
              "      <td>0.06</td>\n",
              "      <td>-0.05</td>\n",
              "      <td>0.02</td>\n",
              "    </tr>\n",
              "    <tr>\n",
              "      <th>cigsPerDay</th>\n",
              "      <td>0.32</td>\n",
              "      <td>-0.19</td>\n",
              "      <td>0.01</td>\n",
              "      <td>0.77</td>\n",
              "      <td>1.00</td>\n",
              "      <td>-0.05</td>\n",
              "      <td>-0.03</td>\n",
              "      <td>-0.07</td>\n",
              "      <td>-0.04</td>\n",
              "      <td>-0.03</td>\n",
              "      <td>-0.09</td>\n",
              "      <td>-0.06</td>\n",
              "      <td>-0.09</td>\n",
              "      <td>0.07</td>\n",
              "      <td>-0.06</td>\n",
              "      <td>0.06</td>\n",
              "    </tr>\n",
              "    <tr>\n",
              "      <th>BPMeds</th>\n",
              "      <td>-0.05</td>\n",
              "      <td>0.12</td>\n",
              "      <td>-0.01</td>\n",
              "      <td>-0.05</td>\n",
              "      <td>-0.05</td>\n",
              "      <td>1.00</td>\n",
              "      <td>0.12</td>\n",
              "      <td>0.26</td>\n",
              "      <td>0.05</td>\n",
              "      <td>0.08</td>\n",
              "      <td>0.25</td>\n",
              "      <td>0.19</td>\n",
              "      <td>0.10</td>\n",
              "      <td>0.02</td>\n",
              "      <td>0.05</td>\n",
              "      <td>0.09</td>\n",
              "    </tr>\n",
              "    <tr>\n",
              "      <th>prevalentStroke</th>\n",
              "      <td>-0.00</td>\n",
              "      <td>0.06</td>\n",
              "      <td>-0.04</td>\n",
              "      <td>-0.03</td>\n",
              "      <td>-0.03</td>\n",
              "      <td>0.12</td>\n",
              "      <td>1.00</td>\n",
              "      <td>0.07</td>\n",
              "      <td>0.01</td>\n",
              "      <td>0.00</td>\n",
              "      <td>0.06</td>\n",
              "      <td>0.05</td>\n",
              "      <td>0.02</td>\n",
              "      <td>-0.02</td>\n",
              "      <td>0.02</td>\n",
              "      <td>0.06</td>\n",
              "    </tr>\n",
              "    <tr>\n",
              "      <th>prevalentHyp</th>\n",
              "      <td>0.01</td>\n",
              "      <td>0.31</td>\n",
              "      <td>-0.08</td>\n",
              "      <td>-0.10</td>\n",
              "      <td>-0.07</td>\n",
              "      <td>0.26</td>\n",
              "      <td>0.07</td>\n",
              "      <td>1.00</td>\n",
              "      <td>0.08</td>\n",
              "      <td>0.16</td>\n",
              "      <td>0.70</td>\n",
              "      <td>0.62</td>\n",
              "      <td>0.30</td>\n",
              "      <td>0.15</td>\n",
              "      <td>0.08</td>\n",
              "      <td>0.18</td>\n",
              "    </tr>\n",
              "    <tr>\n",
              "      <th>diabetes</th>\n",
              "      <td>0.02</td>\n",
              "      <td>0.10</td>\n",
              "      <td>-0.04</td>\n",
              "      <td>-0.04</td>\n",
              "      <td>-0.04</td>\n",
              "      <td>0.05</td>\n",
              "      <td>0.01</td>\n",
              "      <td>0.08</td>\n",
              "      <td>1.00</td>\n",
              "      <td>0.04</td>\n",
              "      <td>0.11</td>\n",
              "      <td>0.05</td>\n",
              "      <td>0.09</td>\n",
              "      <td>0.05</td>\n",
              "      <td>0.61</td>\n",
              "      <td>0.10</td>\n",
              "    </tr>\n",
              "    <tr>\n",
              "      <th>totChol</th>\n",
              "      <td>-0.07</td>\n",
              "      <td>0.26</td>\n",
              "      <td>-0.02</td>\n",
              "      <td>-0.05</td>\n",
              "      <td>-0.03</td>\n",
              "      <td>0.08</td>\n",
              "      <td>0.00</td>\n",
              "      <td>0.16</td>\n",
              "      <td>0.04</td>\n",
              "      <td>1.00</td>\n",
              "      <td>0.21</td>\n",
              "      <td>0.16</td>\n",
              "      <td>0.11</td>\n",
              "      <td>0.09</td>\n",
              "      <td>0.04</td>\n",
              "      <td>0.08</td>\n",
              "    </tr>\n",
              "    <tr>\n",
              "      <th>sysBP</th>\n",
              "      <td>-0.04</td>\n",
              "      <td>0.39</td>\n",
              "      <td>-0.13</td>\n",
              "      <td>-0.13</td>\n",
              "      <td>-0.09</td>\n",
              "      <td>0.25</td>\n",
              "      <td>0.06</td>\n",
              "      <td>0.70</td>\n",
              "      <td>0.11</td>\n",
              "      <td>0.21</td>\n",
              "      <td>1.00</td>\n",
              "      <td>0.78</td>\n",
              "      <td>0.33</td>\n",
              "      <td>0.18</td>\n",
              "      <td>0.13</td>\n",
              "      <td>0.22</td>\n",
              "    </tr>\n",
              "    <tr>\n",
              "      <th>diaBP</th>\n",
              "      <td>0.06</td>\n",
              "      <td>0.21</td>\n",
              "      <td>-0.06</td>\n",
              "      <td>-0.11</td>\n",
              "      <td>-0.06</td>\n",
              "      <td>0.19</td>\n",
              "      <td>0.05</td>\n",
              "      <td>0.62</td>\n",
              "      <td>0.05</td>\n",
              "      <td>0.16</td>\n",
              "      <td>0.78</td>\n",
              "      <td>1.00</td>\n",
              "      <td>0.38</td>\n",
              "      <td>0.18</td>\n",
              "      <td>0.06</td>\n",
              "      <td>0.15</td>\n",
              "    </tr>\n",
              "    <tr>\n",
              "      <th>BMI</th>\n",
              "      <td>0.08</td>\n",
              "      <td>0.14</td>\n",
              "      <td>-0.14</td>\n",
              "      <td>-0.17</td>\n",
              "      <td>-0.09</td>\n",
              "      <td>0.10</td>\n",
              "      <td>0.02</td>\n",
              "      <td>0.30</td>\n",
              "      <td>0.09</td>\n",
              "      <td>0.11</td>\n",
              "      <td>0.33</td>\n",
              "      <td>0.38</td>\n",
              "      <td>1.00</td>\n",
              "      <td>0.07</td>\n",
              "      <td>0.08</td>\n",
              "      <td>0.07</td>\n",
              "    </tr>\n",
              "    <tr>\n",
              "      <th>heartRate</th>\n",
              "      <td>-0.12</td>\n",
              "      <td>-0.01</td>\n",
              "      <td>-0.05</td>\n",
              "      <td>0.06</td>\n",
              "      <td>0.07</td>\n",
              "      <td>0.02</td>\n",
              "      <td>-0.02</td>\n",
              "      <td>0.15</td>\n",
              "      <td>0.05</td>\n",
              "      <td>0.09</td>\n",
              "      <td>0.18</td>\n",
              "      <td>0.18</td>\n",
              "      <td>0.07</td>\n",
              "      <td>1.00</td>\n",
              "      <td>0.09</td>\n",
              "      <td>0.02</td>\n",
              "    </tr>\n",
              "    <tr>\n",
              "      <th>glucose</th>\n",
              "      <td>0.01</td>\n",
              "      <td>0.12</td>\n",
              "      <td>-0.03</td>\n",
              "      <td>-0.05</td>\n",
              "      <td>-0.06</td>\n",
              "      <td>0.05</td>\n",
              "      <td>0.02</td>\n",
              "      <td>0.08</td>\n",
              "      <td>0.61</td>\n",
              "      <td>0.04</td>\n",
              "      <td>0.13</td>\n",
              "      <td>0.06</td>\n",
              "      <td>0.08</td>\n",
              "      <td>0.09</td>\n",
              "      <td>1.00</td>\n",
              "      <td>0.12</td>\n",
              "    </tr>\n",
              "    <tr>\n",
              "      <th>TenYearCHD</th>\n",
              "      <td>0.09</td>\n",
              "      <td>0.23</td>\n",
              "      <td>-0.05</td>\n",
              "      <td>0.02</td>\n",
              "      <td>0.06</td>\n",
              "      <td>0.09</td>\n",
              "      <td>0.06</td>\n",
              "      <td>0.18</td>\n",
              "      <td>0.10</td>\n",
              "      <td>0.08</td>\n",
              "      <td>0.22</td>\n",
              "      <td>0.15</td>\n",
              "      <td>0.07</td>\n",
              "      <td>0.02</td>\n",
              "      <td>0.12</td>\n",
              "      <td>1.00</td>\n",
              "    </tr>\n",
              "  </tbody>\n",
              "</table>\n",
              "</div>\n",
              "      <button class=\"colab-df-convert\" onclick=\"convertToInteractive('df-4a4f10f6-4e05-43bc-9ac0-3acced3af859')\"\n",
              "              title=\"Convert this dataframe to an interactive table.\"\n",
              "              style=\"display:none;\">\n",
              "        \n",
              "  <svg xmlns=\"http://www.w3.org/2000/svg\" height=\"24px\"viewBox=\"0 0 24 24\"\n",
              "       width=\"24px\">\n",
              "    <path d=\"M0 0h24v24H0V0z\" fill=\"none\"/>\n",
              "    <path d=\"M18.56 5.44l.94 2.06.94-2.06 2.06-.94-2.06-.94-.94-2.06-.94 2.06-2.06.94zm-11 1L8.5 8.5l.94-2.06 2.06-.94-2.06-.94L8.5 2.5l-.94 2.06-2.06.94zm10 10l.94 2.06.94-2.06 2.06-.94-2.06-.94-.94-2.06-.94 2.06-2.06.94z\"/><path d=\"M17.41 7.96l-1.37-1.37c-.4-.4-.92-.59-1.43-.59-.52 0-1.04.2-1.43.59L10.3 9.45l-7.72 7.72c-.78.78-.78 2.05 0 2.83L4 21.41c.39.39.9.59 1.41.59.51 0 1.02-.2 1.41-.59l7.78-7.78 2.81-2.81c.8-.78.8-2.07 0-2.86zM5.41 20L4 18.59l7.72-7.72 1.47 1.35L5.41 20z\"/>\n",
              "  </svg>\n",
              "      </button>\n",
              "      \n",
              "  <style>\n",
              "    .colab-df-container {\n",
              "      display:flex;\n",
              "      flex-wrap:wrap;\n",
              "      gap: 12px;\n",
              "    }\n",
              "\n",
              "    .colab-df-convert {\n",
              "      background-color: #E8F0FE;\n",
              "      border: none;\n",
              "      border-radius: 50%;\n",
              "      cursor: pointer;\n",
              "      display: none;\n",
              "      fill: #1967D2;\n",
              "      height: 32px;\n",
              "      padding: 0 0 0 0;\n",
              "      width: 32px;\n",
              "    }\n",
              "\n",
              "    .colab-df-convert:hover {\n",
              "      background-color: #E2EBFA;\n",
              "      box-shadow: 0px 1px 2px rgba(60, 64, 67, 0.3), 0px 1px 3px 1px rgba(60, 64, 67, 0.15);\n",
              "      fill: #174EA6;\n",
              "    }\n",
              "\n",
              "    [theme=dark] .colab-df-convert {\n",
              "      background-color: #3B4455;\n",
              "      fill: #D2E3FC;\n",
              "    }\n",
              "\n",
              "    [theme=dark] .colab-df-convert:hover {\n",
              "      background-color: #434B5C;\n",
              "      box-shadow: 0px 1px 3px 1px rgba(0, 0, 0, 0.15);\n",
              "      filter: drop-shadow(0px 1px 2px rgba(0, 0, 0, 0.3));\n",
              "      fill: #FFFFFF;\n",
              "    }\n",
              "  </style>\n",
              "\n",
              "      <script>\n",
              "        const buttonEl =\n",
              "          document.querySelector('#df-4a4f10f6-4e05-43bc-9ac0-3acced3af859 button.colab-df-convert');\n",
              "        buttonEl.style.display =\n",
              "          google.colab.kernel.accessAllowed ? 'block' : 'none';\n",
              "\n",
              "        async function convertToInteractive(key) {\n",
              "          const element = document.querySelector('#df-4a4f10f6-4e05-43bc-9ac0-3acced3af859');\n",
              "          const dataTable =\n",
              "            await google.colab.kernel.invokeFunction('convertToInteractive',\n",
              "                                                     [key], {});\n",
              "          if (!dataTable) return;\n",
              "\n",
              "          const docLinkHtml = 'Like what you see? Visit the ' +\n",
              "            '<a target=\"_blank\" href=https://colab.research.google.com/notebooks/data_table.ipynb>data table notebook</a>'\n",
              "            + ' to learn more about interactive tables.';\n",
              "          element.innerHTML = '';\n",
              "          dataTable['output_type'] = 'display_data';\n",
              "          await google.colab.output.renderOutput(dataTable, element);\n",
              "          const docLink = document.createElement('div');\n",
              "          docLink.innerHTML = docLinkHtml;\n",
              "          element.appendChild(docLink);\n",
              "        }\n",
              "      </script>\n",
              "    </div>\n",
              "  </div>\n",
              "  "
            ]
          },
          "metadata": {},
          "execution_count": 53
        }
      ]
    },
    {
      "cell_type": "code",
      "source": [
        "sns.heatmap(cormat);"
      ],
      "metadata": {
        "colab": {
          "base_uri": "https://localhost:8080/",
          "height": 338
        },
        "id": "nLRgikH2FZDa",
        "outputId": "b53554af-6d49-4363-92dd-e9e8b3bb824b"
      },
      "execution_count": 54,
      "outputs": [
        {
          "output_type": "display_data",
          "data": {
            "text/plain": [
              "<Figure size 432x288 with 2 Axes>"
            ],
            "image/png": "[encoded data removed]"
          },
          "metadata": {
            "needs_background": "light"
          }
        }
      ]
    },
    {
      "cell_type": "code",
      "source": [
        "target1=data[data['TenYearCHD']==1]\n",
        "target0=data[data['TenYearCHD']==0]\n",
        "target1=resample(target1,replace=True,n_samples=len(target0),random_state=40)\n",
        "target=pd.concat([target0,target1])\n",
        "target['TenYearCHD'].value_counts()"
      ],
      "metadata": {
        "colab": {
          "base_uri": "https://localhost:8080/"
        },
        "id": "_QbiEImJV-qU",
        "outputId": "f4bb0d12-3b7e-4449-996a-d7d158bc0d1d"
      },
      "execution_count": 55,
      "outputs": [
        {
          "output_type": "execute_result",
          "data": {
            "text/plain": [
              "0    3594\n",
              "1    3594\n",
              "Name: TenYearCHD, dtype: int64"
            ]
          },
          "metadata": {},
          "execution_count": 55
        }
      ]
    },
    {
      "cell_type": "code",
      "source": [
        "data=target\n",
        "np.shape(data)"
      ],
      "metadata": {
        "colab": {
          "base_uri": "https://localhost:8080/"
        },
        "id": "pjqvluTrWN-a",
        "outputId": "a2420917-acdd-43de-cd65-5b7acf15a462"
      },
      "execution_count": 56,
      "outputs": [
        {
          "output_type": "execute_result",
          "data": {
            "text/plain": [
              "(7188, 16)"
            ]
          },
          "metadata": {},
          "execution_count": 56
        }
      ]
    },
    {
      "cell_type": "markdown",
      "source": [
        "# **Train Data and Test Data Features Splitting**"
      ],
      "metadata": {
        "id": "BRgQ4Zx3eh1u"
      }
    },
    {
      "cell_type": "code",
      "source": [
        "y = data['TenYearCHD']\n",
        "X = data.drop(['TenYearCHD'], axis=1)\n",
        "train_x, test_x, train_y, test_y = train_test_split(X, y, test_size=0.3, random_state=0)\n"
      ],
      "metadata": {
        "id": "VMmaAqWqWR90"
      },
      "execution_count": 99,
      "outputs": []
    },
    {
      "cell_type": "code",
      "source": [
        "scaler = MinMaxScaler()\n",
        "train_x = scaler.fit_transform(train_x)\n",
        "test_x = scaler.transform(test_x)"
      ],
      "metadata": {
        "id": "cbfCw8_4Wn3S"
      },
      "execution_count": 101,
      "outputs": []
    },
    {
      "cell_type": "markdown",
      "source": [],
      "metadata": {
        "id": "slHxb4DJeULn"
      }
    },
    {
      "cell_type": "markdown",
      "source": [
        "# **Model Testing**\n",
        "The classification algorithms used are \n",
        "\n",
        "1.   Logistic Regression (From Linear Models)\n",
        "2.   Decision Tree Classification(From Non-Linear Models)\n",
        "3.   Random Forest Classification(From Non-Linear Models)\n",
        "\n",
        "\n",
        "\n"
      ],
      "metadata": {
        "id": "pfDzafSYfO3S"
      }
    },
    {
      "cell_type": "markdown",
      "source": [
        "**Logistic Regression**\n",
        "\n",
        "One of the most widely used Machine Learning algorithms, under the category of Supervised Learning, is logistic regression. Using a predetermined set of independent variables, it is used to predict the categorical dependent variable. Logistic regression is widely used in healthcare institutions to precisely pinpoint the target individuals who are in need of the health plan.\n",
        "\n",
        "Accuracy = 67.13%"
      ],
      "metadata": {
        "id": "pURCirNOg69B"
      }
    },
    {
      "cell_type": "code",
      "source": [
        "\n",
        "log_reg = LogisticRegression(random_state=2, max_iter=2500)\n",
        "model = log_reg.fit(train_x, train_y)\n",
        "log_reg_predict = log_reg.predict(test_x)\n",
        "log_reg_acc_score = accuracy_score(test_y, log_reg_predict)\n",
        "print(\"Confussion matrix\")\n",
        "confusion_matrix = metrics.confusion_matrix(test_y, Random_Forest_predicted)\n",
        "cm_display = metrics.ConfusionMatrixDisplay(confusion_matrix = confusion_matrix, display_labels = [False, True])\n",
        "cm_display.plot()\n",
        "plt.show()\n",
        "print(\"\\n\")\n",
        "print(\"Accuracy:\",log_reg_acc_score*100,'%\\n')\n",
        "print(classification_report(test_y,log_reg_predict))"
      ],
      "metadata": {
        "colab": {
          "base_uri": "https://localhost:8080/",
          "height": 522
        },
        "id": "I0jlG2t7XPg2",
        "outputId": "09709a96-d2f7-47e9-8fb4-03921f771ba2"
      },
      "execution_count": 104,
      "outputs": [
        {
          "output_type": "stream",
          "name": "stdout",
          "text": [
            "Confussion matrix\n"
          ]
        },
        {
          "output_type": "display_data",
          "data": {
            "text/plain": [
              "<Figure size 432x288 with 2 Axes>"
            ],
            "image/png": "[encoded data removed]"
          },
          "metadata": {
            "needs_background": "light"
          }
        },
        {
          "output_type": "stream",
          "name": "stdout",
          "text": [
            "\n",
            "\n",
            "Accuracy: 67.1302735280482 %\n",
            "\n",
            "              precision    recall  f1-score   support\n",
            "\n",
            "           0       0.66      0.69      0.68      1076\n",
            "           1       0.68      0.65      0.67      1081\n",
            "\n",
            "    accuracy                           0.67      2157\n",
            "   macro avg       0.67      0.67      0.67      2157\n",
            "weighted avg       0.67      0.67      0.67      2157\n",
            "\n"
          ]
        }
      ]
    },
    {
      "cell_type": "markdown",
      "source": [
        "**Decision Tree**\n",
        "\n",
        "Decision Tree come under the supervised machine learning algorithm and can be used to solve classification and regression problems, but it is typically preferred for doing so. It is a tree-structured classifier, where internal nodes stand in for a dataset's features, branches for the decision-making process, and each leaf node for the classification result.\n",
        "\n",
        "Accuracy = 90.68%\n"
      ],
      "metadata": {
        "id": "CETK1usahN97"
      }
    },
    {
      "cell_type": "code",
      "source": [
        "decision_tree = DecisionTreeClassifier(criterion = 'entropy',random_state=0,max_depth = 30)\n",
        "decision_tree.fit(train_x,train_y)\n",
        "decision_tree_predicted = decision_tree.predict(test_x)\n",
        "decision_tree_acc_score = accuracy_score(test_y, decision_tree_predicted)\n",
        "print(\"Confussion matrix\")\n",
        "confusion_matrix = metrics.confusion_matrix(test_y, Random_Forest_predicted)\n",
        "cm_display = metrics.ConfusionMatrixDisplay(confusion_matrix = confusion_matrix, display_labels = [False, True])\n",
        "cm_display.plot()\n",
        "plt.show()\n",
        "print(\"\\n\")\n",
        "print(\"Accuracy of DecisionTreeClassifier:\",decision_tree_acc_score*100,'%\\n')\n",
        "print(classification_report(test_y,decision_tree_predicted))"
      ],
      "metadata": {
        "colab": {
          "base_uri": "https://localhost:8080/",
          "height": 522
        },
        "id": "ThrJZhNVXO_n",
        "outputId": "b62fa40d-e342-45f6-9ee6-ab47ea2ed197"
      },
      "execution_count": 103,
      "outputs": [
        {
          "output_type": "stream",
          "name": "stdout",
          "text": [
            "Confussion matrix\n"
          ]
        },
        {
          "output_type": "display_data",
          "data": {
            "text/plain": [
              "<Figure size 432x288 with 2 Axes>"
            ],
            "image/png": "[encoded data removed]"
          },
          "metadata": {
            "needs_background": "light"
          }
        },
        {
          "output_type": "stream",
          "name": "stdout",
          "text": [
            "\n",
            "\n",
            "Accuracy of DecisionTreeClassifier: 90.68150208623088 %\n",
            "\n",
            "              precision    recall  f1-score   support\n",
            "\n",
            "           0       0.99      0.82      0.90      1076\n",
            "           1       0.85      0.99      0.91      1081\n",
            "\n",
            "    accuracy                           0.91      2157\n",
            "   macro avg       0.92      0.91      0.91      2157\n",
            "weighted avg       0.92      0.91      0.91      2157\n",
            "\n"
          ]
        }
      ]
    },
    {
      "cell_type": "markdown",
      "source": [
        "**Random Forest**\n",
        "\n",
        "Supervised machine learning algorithms like random forest are frequently employed in classification and regression issues. On various samples, it constructs decision trees and uses their average for classification and majority vote for regression. The Random Forest Algorithm's ability to handle data sets with both continuous variables, as in regression, and categorical variables, as in classification, is one of its most crucial features. In terms of classification issues, it delivers better results. This uses bagging and boosting techniques. High detection accuracy is provided by a large number of trees.\n",
        "\n",
        "Accuracy = 95.92%"
      ],
      "metadata": {
        "id": "DM-FknkPiCJ5"
      }
    },
    {
      "cell_type": "code",
      "source": [
        "from sklearn import metrics\n",
        "\n",
        "Random_Forest = RandomForestClassifier(n_estimators=100, random_state=0,max_depth=27)\n",
        "Random_Forest.fit(train_x,train_y)\n",
        "Random_Forest_predicted = Random_Forest.predict(test_x)\n",
        "#Random_Forest_conf_matrix = confusion_matrix(test_y, Random_Forest_predicted)\n",
        "Random_Forest_acc_score = accuracy_score(test_y, Random_Forest_predicted)\n",
        "print(\"Confussion matrix\")\n",
        "#print(Random_Forest_conf_matrix)\n",
        "confusion_matrix = metrics.confusion_matrix(test_y, Random_Forest_predicted)\n",
        "cm_display = metrics.ConfusionMatrixDisplay(confusion_matrix = confusion_matrix, display_labels = [False, True])\n",
        "cm_display.plot()\n",
        "plt.show()\n",
        "print(\"\\n\")\n",
        "print(\"Accuracy of Random Forest:\",Random_Forest_acc_score*100,'%\\n')\n",
        "print(classification_report(test_y,Random_Forest_predicted))"
      ],
      "metadata": {
        "colab": {
          "base_uri": "https://localhost:8080/",
          "height": 522
        },
        "id": "IksA1qqxWroS",
        "outputId": "88c5e815-4079-43ee-8c30-ce1646325f9f"
      },
      "execution_count": 102,
      "outputs": [
        {
          "output_type": "stream",
          "name": "stdout",
          "text": [
            "Confussion matrix\n"
          ]
        },
        {
          "output_type": "display_data",
          "data": {
            "text/plain": [
              "<Figure size 432x288 with 2 Axes>"
            ],
            "image/png": "[encoded data removed]"
          },
          "metadata": {
            "needs_background": "light"
          }
        },
        {
          "output_type": "stream",
          "name": "stdout",
          "text": [
            "\n",
            "\n",
            "Accuracy of Random Forest: 95.92025961984237 %\n",
            "\n",
            "              precision    recall  f1-score   support\n",
            "\n",
            "           0       0.98      0.94      0.96      1076\n",
            "           1       0.94      0.98      0.96      1081\n",
            "\n",
            "    accuracy                           0.96      2157\n",
            "   macro avg       0.96      0.96      0.96      2157\n",
            "weighted avg       0.96      0.96      0.96      2157\n",
            "\n"
          ]
        }
      ]
    }
  ]
}